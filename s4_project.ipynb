{
 "cells": [
  {
   "cell_type": "code",
   "execution_count": null,
   "metadata": {},
   "outputs": [],
   "source": [
    "from RRI import *\n",
    "import matplotlib.pyplot as plt\n",
    "import h5py\n",
    "from datetime import datetime\n",
    "import pandas as pd\n",
    "import numpy as np\n",
    "import math as mt\n",
    "from math import sqrt\n",
    "%matplotlib inline"
   ]
  },
  {
   "cell_type": "code",
   "execution_count": null,
   "metadata": {},
   "outputs": [],
   "source": [
    "fn_=RRI(\"RRI_20150401_033844_034241_lv1_12.0.0.h5\")"
   ]
  },
  {
   "cell_type": "code",
   "execution_count": null,
   "metadata": {},
   "outputs": [],
   "source": [
    "time=fn_.epop_met \n",
    "am1_=fn_.m1_mV\n",
    "m1_=fn_.m1_mV\n",
    "m2_=fn_.m2_mV\n",
    "m3_=fn_.m3_mV\n",
    "m4_=fn_.m4_mV\n",
    "time=fn_.epop_met\n",
    "geo_lat=fn_.glat_\n",
    "geo_lon=fn_.glon_\n",
    "alt=fn_.alt_\n",
    "freq_1=fn_.d1_freq\n",
    "fs=fn_.fs_"
   ]
  },
  {
   "cell_type": "code",
   "execution_count": null,
   "metadata": {},
   "outputs": [],
   "source": [
    "from scipy.interpolate import interp1d\n",
    "\n",
    "x=np.linspace(0,237,num=238,endpoint=True)\n",
    "y=fn_.epop_met\n",
    "y1=fn_.glat_\n",
    "y2=fn_.glon_\n",
    "y3=fn_.alt_\n",
    "#f=interp1d(x,y)\n",
    "f2=interp1d(x,y,kind='linear')\n",
    "f3=interp1d(x,y1,kind='linear')\n",
    "f4=interp1d(x,y2,kind='linear')\n",
    "f5=interp1d(x,y3,kind='linear')\n",
    "xnew=np.linspace(0,237,num=14810126,endpoint=True)"
   ]
  },
  {
   "cell_type": "code",
   "execution_count": null,
   "metadata": {},
   "outputs": [],
   "source": [
    "time=f2(xnew)\n",
    "geo_lat=f3(xnew)\n",
    "geo_lon=f4(xnew)\n",
    "alt=f5(xnew)"
   ]
  },
  {
   "cell_type": "code",
   "execution_count": null,
   "metadata": {},
   "outputs": [],
   "source": [
    "time2=[]\n",
    "for i in range(len(time)):\n",
    "    dt_obj1 = pd.to_datetime(time[i], unit='s',origin='1968-05-24')\n",
    "    time2.append(dt_obj1)\n",
    "df2 = pd.DataFrame (time2, columns = ['time'])\n",
    "time_1=pd.to_datetime(df2['time'],format='%Y-%m-%d %H:%M:%S.%f')"
   ]
  },
  {
   "cell_type": "code",
   "execution_count": null,
   "metadata": {},
   "outputs": [],
   "source": [
    "loc_nan=np.isnan(m1_)\n",
    "m1_[loc_nan]=0\n",
    "\n",
    "loc_nan=np.isnan(m2_)\n",
    "m2_[loc_nan]=0\n",
    "\n",
    "loc_nan=np.isnan(m3_)\n",
    "m3_[loc_nan]=0\n",
    "\n",
    "loc_nan=np.isnan(m4_)\n",
    "m4_[loc_nan]=0"
   ]
  },
  {
   "cell_type": "code",
   "execution_count": null,
   "metadata": {},
   "outputs": [],
   "source": [
    "diapole_1=m1_+1j*m2_\n",
    "diapole_2=m3_+1j*m4_\n",
    "\n",
    "v1=abs(diapole_1) #amplitude of diapole 1\n",
    "v2=abs(diapole_2)  #amplitude of diapole 2"
   ]
  },
  {
   "cell_type": "code",
   "execution_count": null,
   "metadata": {},
   "outputs": [],
   "source": [
    "plt.plot(time_1,v1)\n",
    "plt.xlim(left=pd.Timestamp('2015-04-01 03:39:40'),right=pd.Timestamp('2015-04-01 03:40:20'))\n",
    "plt.xlabel('Time(UT)')\n",
    "plt.ylabel('Dipole voltage(mV)')\n",
    "plt.title('Dipole voltage, 2015-04-01    Freq=17.5 MHz')\n",
    "plt.ylim(0,16)"
   ]
  },
  {
   "cell_type": "code",
   "execution_count": null,
   "metadata": {},
   "outputs": [],
   "source": [
    "from scipy.signal import find_peaks"
   ]
  },
  {
   "cell_type": "code",
   "execution_count": null,
   "metadata": {},
   "outputs": [],
   "source": [
    "#finding the pulse present in the signal of diapole 1 and 2\n",
    "#pks_1=find_peaks(v1)\n",
    "pks_1=DARN_pulse_seeker(v1)\n",
    "pks_2=DARN_pulse_seeker(v2)\n",
    "x=pks_1[0]\n",
    "y=pks_2[0]"
   ]
  },
  {
   "cell_type": "code",
   "execution_count": null,
   "metadata": {},
   "outputs": [],
   "source": [
    "plt.plot(v1[x])\n",
    "plt.xlim(0,1000)\n",
    "plt.title('April 1,2015-dipole voltage')"
   ]
  },
  {
   "cell_type": "code",
   "execution_count": null,
   "metadata": {},
   "outputs": [],
   "source": [
    "##scintillation s4 for diapole v1"
   ]
  },
  {
   "cell_type": "code",
   "execution_count": null,
   "metadata": {},
   "outputs": [],
   "source": [
    "def from_3d_numpy_to_2d_array(X):\n",
    "    array_2d = X.reshape(X.shape[0], -1)\n",
    "    return array_2d"
   ]
  },
  {
   "cell_type": "code",
   "execution_count": null,
   "metadata": {},
   "outputs": [],
   "source": [
    "#getting 20 data on either side of pulse position \n",
    "\n",
    "pulse1=[]\n",
    "pulse_position=[]\n",
    "for i in range(len(x)):\n",
    "                 df_v1=pd.DataFrame(v1)\n",
    "                 v_1=(df_v1.iloc[x[i]-20:x[i]+20]).reset_index(drop=True)\n",
    "                 exclude_positions=range(x[i]-20,x[i]+20,1)\n",
    "                 pulse1.append(v_1)\n",
    "                 pulse_position.append(exclude_positions)\n"
   ]
  },
  {
   "cell_type": "code",
   "execution_count": null,
   "metadata": {},
   "outputs": [],
   "source": [
    "noise_data=[]\n",
    "for i in range(len(x)):\n",
    "          v1_noise=(df_v1.iloc[x[i]+25:x[i]+45]).reset_index(drop=True)\n",
    "          noise_data.append(v1_noise)\n",
    "          "
   ]
  },
  {
   "cell_type": "code",
   "execution_count": null,
   "metadata": {},
   "outputs": [],
   "source": [
    "noise=np.array(noise_data)\n",
    "n2=from_3d_numpy_to_2d_array(noise)"
   ]
  },
  {
   "cell_type": "code",
   "execution_count": null,
   "metadata": {},
   "outputs": [],
   "source": [
    "#converting 3D array into 2D array\n",
    "\n",
    "g=np.array(pulse1)\n",
    "n1=from_3d_numpy_to_2d_array(g)\n",
    "print(n1.shape)"
   ]
  },
  {
   "cell_type": "code",
   "execution_count": null,
   "metadata": {},
   "outputs": [],
   "source": [
    "#s4 calclatin1on new approach"
   ]
  },
  {
   "cell_type": "code",
   "execution_count": null,
   "metadata": {},
   "outputs": [],
   "source": [
    "#finding runnig sum of data and find the position of maximum sum of set of data\n",
    "ls=[]\n",
    "list_new=[]\n",
    "for k in range(len(n1)):\n",
    "                 sub_n1=n1[k]\n",
    "                 for i in range(31):\n",
    "                                  j=0\n",
    "                                  sublist=sub_n1[i+j:i+j+10]\n",
    "                                  \n",
    "                                  #sublist1=np.array(sublist1)\n",
    "                                  list_new.append(sublist)\n",
    "                                                \n"
   ]
  },
  {
   "cell_type": "code",
   "execution_count": null,
   "metadata": {},
   "outputs": [],
   "source": [
    "#splititng dataset and finding maximum sum of set of data\n",
    "list_new=np.array(list_new)\n",
    "arr2 = np.split(list_new, 10411, axis=0)\n",
    "extract=[]\n",
    "for m in range(10411):\n",
    "                 nj=arr2[m]\n",
    "                 sum1=np.sum(nj,axis=1)\n",
    "                 sum1=np.array(sum1)\n",
    "                 n0=sum1.argmax()\n",
    "                 sublist3=nj[n0]\n",
    "                 extract.append(sublist3)"
   ]
  },
  {
   "cell_type": "code",
   "execution_count": null,
   "metadata": {},
   "outputs": [],
   "source": [
    "newextract=[]\n",
    "for h in range(len(n1)):\n",
    "                 m=(extract[h]).tolist()\n",
    "                 newextract.append(m)\n",
    "                 "
   ]
  },
  {
   "cell_type": "code",
   "execution_count": null,
   "metadata": {},
   "outputs": [],
   "source": [
    "pos=[]\n",
    "for u in range(len(n1)):\n",
    "                 indices = [i for i, x in enumerate(n1[u]) for p , y in enumerate(extract[u]) if x==y]\n",
    "                 pos.append(indices)\n",
    "                 \n",
    "                 "
   ]
  },
  {
   "cell_type": "code",
   "execution_count": null,
   "metadata": {},
   "outputs": [],
   "source": [
    "for u in range(len(n1)):\n",
    "                 for i in range(len(pos[u])-2):\n",
    "                                  if (pos[u][i + 1] - pos[u][i])>1:\n",
    "                                                   del pos[u][i]\n",
    "                                  "
   ]
  },
  {
   "cell_type": "code",
   "execution_count": null,
   "metadata": {},
   "outputs": [],
   "source": [
    "#creating nan list \n",
    "\n",
    "a = np.empty((10411,40))\n",
    "a[:] = np.nan\n",
    "a.tolist()\n",
    "newa=[]\n",
    "for k in range(10411):\n",
    "                 no=(a[k]).tolist()\n",
    "                 newa.append(no)"
   ]
  },
  {
   "cell_type": "code",
   "execution_count": null,
   "metadata": {},
   "outputs": [],
   "source": [
    "for i in range(10411):\n",
    "                 for k in range(10):\n",
    "                                  posi=[val for w, val in enumerate(pos[i])]\n",
    "                                  dat=[value for q,value in enumerate(newextract[i])]\n",
    "                                  #newa[i].insert(posi[k],dat[k])\n",
    "                                  newa[i][posi[k]]=dat[k]"
   ]
  },
  {
   "cell_type": "code",
   "execution_count": null,
   "metadata": {},
   "outputs": [],
   "source": [
    "extract2=np.array(extract)\n",
    "extract1=extract2**2"
   ]
  },
  {
   "cell_type": "code",
   "execution_count": null,
   "metadata": {},
   "outputs": [],
   "source": [
    "#calculating s4\n",
    "\n",
    "s4_new_let=[]\n",
    "for i in range(len(extract1)):\n",
    "    s4=sqrt((np.nanmean((extract1[i])**2)-(np.nanmean(extract1[i]))**2)/(np.nanmean(extract1[i]))**2)\n",
    "    s4_new_let.append(s4)"
   ]
  },
  {
   "cell_type": "code",
   "execution_count": null,
   "metadata": {},
   "outputs": [],
   "source": [
    "s4_new_let=[]\n",
    "for i in range(len(extract1)):\n",
    "    s4=sqrt((np.nanmean((extract1[i])**2)-(np.nanmean(extract1[i]))**2)/(np.nanmean(extract1[i]))**2)\n",
    "    s4_new_let.append(s4)"
   ]
  },
  {
   "cell_type": "code",
   "execution_count": null,
   "metadata": {},
   "outputs": [],
   "source": [
    "len(s4_new_let)"
   ]
  },
  {
   "cell_type": "code",
   "execution_count": null,
   "metadata": {},
   "outputs": [],
   "source": [
    "#finding exact time...."
   ]
  },
  {
   "cell_type": "code",
   "execution_count": null,
   "metadata": {},
   "outputs": [],
   "source": [
    "time_pulse1=[]\n",
    "for i in range(len(x)):\n",
    "                 timeframe=pd.DataFrame(time,index=None)\n",
    "                 t_1=(timeframe.iloc[x[i]-20:x[i]+20]).reset_index(drop=True)\n",
    "                 time_pulse1.append(t_1)"
   ]
  },
  {
   "cell_type": "code",
   "execution_count": null,
   "metadata": {},
   "outputs": [],
   "source": [
    "time_pulse1=np.array(time_pulse1)"
   ]
  },
  {
   "cell_type": "code",
   "execution_count": null,
   "metadata": {},
   "outputs": [],
   "source": [
    "#time in micrsecond\n",
    "\n",
    "time_micro=time_pulse1/10**(-6)\n",
    "real_time=[]\n",
    "for i in range(10411):\n",
    "                 real_time1=time_micro[i]-time_micro[i][0]\n",
    "                 real_time.append(real_time1)\n",
    "                 "
   ]
  },
  {
   "cell_type": "code",
   "execution_count": null,
   "metadata": {},
   "outputs": [],
   "source": [
    "time_extract=[]\n",
    "for i in range(10411):\n",
    "                 c=time_pulse1[i][pos[i]]\n",
    "                 time_extract.append(c)"
   ]
  },
  {
   "cell_type": "code",
   "execution_count": null,
   "metadata": {},
   "outputs": [],
   "source": [
    "\n",
    "middle_index=[]\n",
    "for u in range(10411):\n",
    "                 nu=time_extract[u][int(len(time_extract[u])/2)]\n",
    "                 middle_index.append(nu)"
   ]
  },
  {
   "cell_type": "code",
   "execution_count": null,
   "metadata": {},
   "outputs": [],
   "source": [
    "middle_index=pd.DataFrame(middle_index)"
   ]
  },
  {
   "cell_type": "code",
   "execution_count": null,
   "metadata": {},
   "outputs": [],
   "source": [
    "time_for_s4_new=[]\n",
    "for i in range(len(middle_index[0])):\n",
    "    dt_obj1 = pd.to_datetime(middle_index[0][i], unit='s',origin='1968-05-24')\n",
    "    time_for_s4_new.append(dt_obj1)\n",
    "df2 = pd.DataFrame (time_for_s4_new, columns = ['time'])\n",
    "time_real=pd.to_datetime(df2['time'],format='%Y-%m-%d %H:%M:%S.%f')"
   ]
  },
  {
   "cell_type": "code",
   "execution_count": null,
   "metadata": {},
   "outputs": [],
   "source": [
    "plt.plot(time_1[x][0:10000],s4_new_let[0:10000],'r*')\n",
    "plt.plot(time_1[x][0:10000],s4_new_let[0:10000])\n",
    "plt.xlim(left=pd.Timestamp('2015-04-01 03:39:40'),right=pd.Timestamp('2015-04-01 03:40:20'))\n",
    "#plt.ylim(0,0.5)\n",
    "plt.title('s4 index-(dipole voltage)')\n",
    "plt.grid(True)\n",
    "#plt.xlim(4000,4200)\n",
    "plt.xlabel('time(UT)')"
   ]
  },
  {
   "cell_type": "code",
   "execution_count": null,
   "metadata": {},
   "outputs": [],
   "source": [
    "plt.plot(real_time[0],n1[0])\n",
    "plt.xlabel('time(μs)')\n",
    "plt.ylabel('dipole voltage(mV)')\n",
    "plt.title(\"2015-04-01 03:38:44.80\")"
   ]
  },
  {
   "cell_type": "code",
   "execution_count": null,
   "metadata": {},
   "outputs": [],
   "source": [
    "plt.plot(real_time[0],newa[0],'x',color='r')\n",
    "plt.plot(real_time[0],n1[0],color='black')\n",
    "plt.xlabel('time(μs)')\n",
    "plt.ylabel('Dipole voltage(mV)')\n",
    "plt.title(\"2015-04-01 03:38:44.80\")"
   ]
  },
  {
   "cell_type": "code",
   "execution_count": null,
   "metadata": {},
   "outputs": [],
   "source": [
    "#calculating SNR\n",
    "def signal_power(signal_data):\n",
    "    return np.sum(signal_data ** 2) / len(signal_data)"
   ]
  },
  {
   "cell_type": "code",
   "execution_count": null,
   "metadata": {},
   "outputs": [],
   "source": [
    "def noise_power(noise_data):\n",
    "    noise = noise_data\n",
    "    return np.sum(noise ** 2) / len(noise)"
   ]
  },
  {
   "cell_type": "code",
   "execution_count": null,
   "metadata": {},
   "outputs": [],
   "source": [
    "SNR=[]\n",
    "for i in range(len(n1)):\n",
    "          x1=(signal_power(extract2[i])-noise_power(n2[i])) / noise_power(n2[i])\n",
    "          snr = 10*np.log10(x1)\n",
    "          SNR.append(snr)\n",
    "SNR=np.array(SNR)\n",
    "s_nan=np.isnan(SNR)\n",
    "SNR[s_nan]=0\n",
    "df_SNR=pd.DataFrame(SNR)\n",
    "df_SNR.interpolate()"
   ]
  },
  {
   "cell_type": "code",
   "execution_count": null,
   "metadata": {},
   "outputs": [],
   "source": [
    "plt.plot(time_1[x][0:10000],df_SNR[0:10000],'r*')\n",
    "plt.plot(time_1[x][0:10000],df_SNR[0:10000])\n",
    "plt.xlim(left=pd.Timestamp('2015-04-01 03:39:40'),right=pd.Timestamp('2015-04-01 03:40:20'))\n",
    "plt.title(\"SNR\")\n",
    "#plt.xlim(200,400)\n",
    "plt.ylabel(\"SRN(dB"
   ]
  },
  {
   "cell_type": "code",
   "execution_count": null,
   "metadata": {},
   "outputs": [],
   "source": [
    "#s4 scintillation using SNR\n",
    "SNR=np.array(df_SNR[0])\n",
    "s4_SNR=[]\n",
    "for i in range(len(SNR)):\n",
    "          SNR_s4=(sqrt(np.nanmean((SNR[i]-np.nanmean(SNR))**2)))/(np.nanmean(SNR))\n",
    "          s4_SNR.append(SNR_s4)"
   ]
  },
  {
   "cell_type": "code",
   "execution_count": null,
   "metadata": {},
   "outputs": [],
   "source": [
    "plt.plot(time_1[x][0:10000],s4_SNR[0:10000],'r*')\n",
    "plt.plot(time_1[x][0:10000],s4_SNR[0:10000])\n",
    "plt.xlim(left=pd.Timestamp('2015-04-01 03:39:40'),right=pd.Timestamp('2015-04-01 03:40:20'))\n",
    "plt.title(\"S4_SNR\")"
   ]
  },
  {
   "cell_type": "code",
   "execution_count": null,
   "metadata": {},
   "outputs": [],
   "source": []
  },
  {
   "cell_type": "code",
   "execution_count": null,
   "metadata": {},
   "outputs": [],
   "source": []
  }
 ],
 "metadata": {
  "kernelspec": {
   "display_name": "Python 3",
   "language": "python",
   "name": "python3"
  },
  "language_info": {
   "name": "python",
   "version": "3.11.2"
  },
  "orig_nbformat": 4,
  "vscode": {
   "interpreter": {
    "hash": "aee8b7b246df8f9039afb4144a1f6fd8d2ca17a180786b69acc140d282b71a49"
   }
  }
 },
 "nbformat": 4,
 "nbformat_minor": 2
}
